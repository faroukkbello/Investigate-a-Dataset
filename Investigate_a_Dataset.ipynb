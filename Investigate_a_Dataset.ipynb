{
 "cells": [
  {
   "attachments": {},
   "cell_type": "markdown",
   "metadata": {},
   "source": [
    "# Project:-Investigate a Dataset - TMDb Movie Data\n",
    "## Table of Contents\n",
    "<ul>\n",
    "<li><a href=\"#intro\">Introduction</a></li>\n",
    "<li><a href=\"#wrangling\">Data Wrangling</a></li>\n",
    "<li><a href=\"#eda\">Exploratory Data Analysis</a></li>\n",
    "<li><a href=\"#conclusions\">Conclusions</a></li>\n",
    "</ul>"
   ]
  },
  {
   "attachments": {},
   "cell_type": "markdown",
   "metadata": {},
   "source": [
    "<a id=intro></a>\n",
    "## Introduction\n",
    "\n",
    "### Dataset Description\n",
    "This data set contains information about 10000 movies collected from The Movie Database (TMDb) including user ratings and revenue\n",
    "- id - Unique id for each entry\n",
    "- imdb_id - IMDb id for each movie\n",
    "- popularity - The popularity rating of each movie\n",
    "- budget - The amount dedicated for the production of the movie\n",
    "- revenue - The amount derived after production of the movie\n",
    "- original_title - The original title of each movie\n",
    "- cast - The casts that appeared in the movie\n",
    "- homepage - The homepage of the movie\n",
    "- director - The name of the director that directed the movie\n",
    "- tagline - Short introduction about the movie\n",
    "- keywords - Keywords associated with the movie\n",
    "- overview - Storyline of the movie\n",
    "- runtime - The duration of the movie\n",
    "- genres - The classes that the movie belongs\n",
    "- production_companies - The companies that produced the movie\n",
    "- release_date - The date that the movie was released\n",
    "- vote_count - The number of votes that the movie got\n",
    "- vote_average - The average vote for a particular movie\n",
    "- release_year - The year that the movie was released in\n",
    "- budget_adj - The budget in terms of 2010 dollars\n",
    "- revenue_adj - The revenue in terms of 2010 dollars\n",
    "\n",
    "### Questions for Analysis\n",
    "1. Which 5 genres are dominating the movie industry?\n",
    "2. Are these genres making most of the profits in the movie industry?\n",
    "3. What percentage of success does these movie genres take in the movie industry?\n",
    "4. Are these genres the most popular?\n",
    "5. Whats the relationship between a movie's popularity and its revenue?\n",
    "6. Which 5 directors would you recommend to your friend? And why?"
   ]
  },
  {
   "attachments": {},
   "cell_type": "markdown",
   "metadata": {},
   "source": [
    "#### Import necessariy libraries"
   ]
  },
  {
   "cell_type": "code",
   "execution_count": null,
   "metadata": {},
   "outputs": [],
   "source": [
    "import numpy as np\n",
    "import pandas as pd\n",
    "import matplotlib.pyplot as plt\n",
    "import seaborn as sns\n",
    "%matplotlib inline"
   ]
  },
  {
   "attachments": {},
   "cell_type": "markdown",
   "metadata": {},
   "source": [
    "<a id='wrangling'></a>\n",
    "## Data Wrangling"
   ]
  },
  {
   "attachments": {},
   "cell_type": "markdown",
   "metadata": {},
   "source": [
    "**Gather the data to use for our analysis**"
   ]
  },
  {
   "cell_type": "code",
   "execution_count": null,
   "metadata": {},
   "outputs": [],
   "source": [
    "# Use pandas 'read_csv()' function to load in the csv file that holds our data\n",
    "tmdb_data = pd.read_csv('tmdb-movies.csv')\n",
    "\n",
    "# Confirm the operation by displaying the first five records with pandas 'head()' function\n",
    "tmdb_data.head()"
   ]
  },
  {
   "cell_type": "code",
   "execution_count": null,
   "metadata": {},
   "outputs": [],
   "source": [
    "# How many records and columns do we have in this data\n",
    "shape = tmdb_data.shape\n",
    "print('We have ', shape[0], 'records and ', shape[1], 'attributes in the TMDb Movies Dataset')"
   ]
  },
  {
   "attachments": {},
   "cell_type": "markdown",
   "metadata": {},
   "source": [
    "**Assess the data for analysis**"
   ]
  },
  {
   "cell_type": "code",
   "execution_count": null,
   "metadata": {},
   "outputs": [],
   "source": [
    "# What are the attributes we have in these dataset are they all needed for our analysis?\n",
    "tmdb_data.info()"
   ]
  },
  {
   "attachments": {},
   "cell_type": "markdown",
   "metadata": {},
   "source": [
    "**Clean the data for analysis**"
   ]
  },
  {
   "attachments": {},
   "cell_type": "markdown",
   "metadata": {},
   "source": [
    "- I will remove *id* attribute leaving imdb_id as the unique identifier."
   ]
  },
  {
   "cell_type": "code",
   "execution_count": null,
   "metadata": {},
   "outputs": [],
   "source": [
    "# Remove 'id' attribute from the data\n",
    "tmdb_data.drop('id', axis=1, inplace=True)\n",
    "\n",
    "# A custom function to check if attribute removal is successful\n",
    "def check_attribute_status(attr_names:list):\n",
    "    # Get the attributes in the dataset we're working with\n",
    "    attributes = tmdb_data.columns\n",
    "\n",
    "    # Loop through the list of attributes supplied\n",
    "    for i in attr_names:\n",
    "        # Checks if the attribute is in the dataset\n",
    "        state = i in attributes\n",
    "\n",
    "        # Print out a text stating if the attribute is in the dataset or not\n",
    "        print(i, 'attribute in the dataset?', state)\n",
    "    \n",
    "\n",
    "# Check if we have indeed removed the column\n",
    "check_attribute_status(['id']) # Should return False"
   ]
  },
  {
   "attachments": {},
   "cell_type": "markdown",
   "metadata": {},
   "source": [
    "- I will remove *cast, homepage, tagline, keywords, overview, release_date, budget_adj and revenue_adj* attributes from the dataset as I don't need them for my analysis"
   ]
  },
  {
   "cell_type": "code",
   "execution_count": null,
   "metadata": {},
   "outputs": [],
   "source": [
    "# Remove 'homepage, tagline, keywords, overview, release_date, budget_adj and revenue_adj' attributes from the dataset\n",
    "tmdb_data.drop(columns=['cast', 'homepage', 'tagline', 'keywords', 'overview', 'release_date', 'budget_adj', 'revenue_adj'], inplace=True)\n",
    "\n",
    "# Validate the operation by checking if they are still in the dataset\n",
    "check_attribute_status(['cast', 'homepage', 'tagline', 'keywords', 'overview', 'release_date', 'budget_adj', 'revenue_adj'])"
   ]
  },
  {
   "attachments": {},
   "cell_type": "markdown",
   "metadata": {},
   "source": [
    "Are all these records unique? Let's check"
   ]
  },
  {
   "cell_type": "code",
   "execution_count": null,
   "metadata": {},
   "outputs": [],
   "source": [
    "# Check for duplicated records\n",
    "tmdb_data.duplicated().sum()"
   ]
  },
  {
   "cell_type": "code",
   "execution_count": null,
   "metadata": {},
   "outputs": [],
   "source": [
    "# View the duplicate(s)\n",
    "tmdb_data[tmdb_data.duplicated()]"
   ]
  },
  {
   "cell_type": "code",
   "execution_count": null,
   "metadata": {},
   "outputs": [],
   "source": [
    "# View both records simultaneously\n",
    "# Use the original title to get both\n",
    "tmdb_data.query('original_title == \"TEKKEN\"')"
   ]
  },
  {
   "cell_type": "code",
   "execution_count": null,
   "metadata": {},
   "outputs": [],
   "source": [
    "# Drop the duplicates\n",
    "tmdb_data.drop_duplicates(inplace=True)\n",
    "\n",
    "# Check again to verify the duplucate is out of the dataset\n",
    "tmdb_data.duplicated().sum()"
   ]
  },
  {
   "attachments": {},
   "cell_type": "markdown",
   "metadata": {},
   "source": [
    "Do we have null values in our records? How many for each attribute?"
   ]
  },
  {
   "cell_type": "code",
   "execution_count": null,
   "metadata": {},
   "outputs": [],
   "source": [
    "# Check if the attributes contain null values\n",
    "tmdb_data.isnull().any()"
   ]
  },
  {
   "cell_type": "code",
   "execution_count": null,
   "metadata": {},
   "outputs": [],
   "source": [
    "# Count the null values for each attribute\n",
    "tmdb_data.isnull().sum()"
   ]
  },
  {
   "attachments": {},
   "cell_type": "markdown",
   "metadata": {},
   "source": [
    "Our dataset contain null values with production_companies containing the most. This attribute is not really needed for our analysis so let's drop it."
   ]
  },
  {
   "cell_type": "code",
   "execution_count": null,
   "metadata": {},
   "outputs": [],
   "source": [
    "# Drop the production_companies attribute\n",
    "tmdb_data.drop('production_companies', axis=1, inplace=True)\n",
    "\n",
    "# Validate the operation\n",
    "check_attribute_status(['production_companies'])"
   ]
  },
  {
   "cell_type": "code",
   "execution_count": null,
   "metadata": {},
   "outputs": [],
   "source": [
    "# Check the null values for each attribute\n",
    "tmdb_data.isnull().sum()"
   ]
  },
  {
   "attachments": {},
   "cell_type": "markdown",
   "metadata": {},
   "source": [
    "Assuming each null value is a unique record; Let's add them up and see the percentage of the null values relative to the number of records we have in the dataset"
   ]
  },
  {
   "cell_type": "code",
   "execution_count": null,
   "metadata": {},
   "outputs": [],
   "source": [
    "total_null = tmdb_data.isnull().sum().sum() # Sum of all the null values together\n",
    "total_records = tmdb_data.shape[0] # Get the number of records in our dataset\n",
    "\n",
    "print('Null values in our modified dataset takes up {:.2%} of the records'.format(total_null/total_records))"
   ]
  },
  {
   "attachments": {},
   "cell_type": "markdown",
   "metadata": {},
   "source": [
    "The null values takes less than 1% of the records so we can remove the individual records with null values"
   ]
  },
  {
   "cell_type": "code",
   "execution_count": null,
   "metadata": {},
   "outputs": [],
   "source": [
    "# The function to remove null values from our dataset\n",
    "def remove_nulls(attr_name):\n",
    "    # Extract the null records from the dataframe\n",
    "    null_df = tmdb_data[tmdb_data[attr_name].isnull()]\n",
    "\n",
    "    # Remove records with the same index in the null dataframe\n",
    "    tmdb_data.drop(index=null_df.index, inplace=True)\n",
    "\n",
    "    # Print a statement to the console stating the number of nulls in the particular attribute\n",
    "    print('Attribute', attr_name, 'contains', tmdb_data[attr_name].isnull().sum(), 'null value(s)')"
   ]
  },
  {
   "cell_type": "code",
   "execution_count": null,
   "metadata": {},
   "outputs": [],
   "source": [
    "# Remove null records from our dataset using the function created earlier\n",
    "remove_nulls('imdb_id')\n",
    "remove_nulls('director')\n",
    "remove_nulls('genres')"
   ]
  },
  {
   "cell_type": "code",
   "execution_count": null,
   "metadata": {},
   "outputs": [],
   "source": [
    "# Check for null values\n",
    "tmdb_data.isnull().sum()"
   ]
  },
  {
   "attachments": {},
   "cell_type": "markdown",
   "metadata": {},
   "source": [
    "Now that we're done with null values let's assses the dtypes of our attributes"
   ]
  },
  {
   "cell_type": "code",
   "execution_count": null,
   "metadata": {},
   "outputs": [],
   "source": [
    "# Display the data types of our attributes\n",
    "tmdb_data.dtypes"
   ]
  },
  {
   "attachments": {},
   "cell_type": "markdown",
   "metadata": {},
   "source": [
    "Our data types are good. I can start exploring and manipulating. Let's have a quick view once more."
   ]
  },
  {
   "cell_type": "code",
   "execution_count": null,
   "metadata": {},
   "outputs": [],
   "source": [
    "# View the first five records\n",
    "tmdb_data.head()"
   ]
  },
  {
   "attachments": {},
   "cell_type": "markdown",
   "metadata": {},
   "source": [
    "Genre contains multiple values separated by pipe character. I need to split it as I'll heavily use it in my analysis"
   ]
  },
  {
   "cell_type": "code",
   "execution_count": null,
   "metadata": {},
   "outputs": [],
   "source": [
    "# Convert the string the genres attribute into a list; splitting based on the pipe character\n",
    "tmdb_data.genres = tmdb_data.genres.apply(lambda x: x.split('|'))\n",
    "\n",
    "# Use pandas 'explode()' function to convert the list into individual records\n",
    "tmdb_data = tmdb_data.explode('genres')\n",
    "\n",
    "# View our dataset\n",
    "tmdb_data.head()"
   ]
  },
  {
   "attachments": {},
   "cell_type": "markdown",
   "metadata": {},
   "source": [
    "Rename genres to genre"
   ]
  },
  {
   "cell_type": "code",
   "execution_count": null,
   "metadata": {},
   "outputs": [],
   "source": [
    "tmdb_data.rename(columns={'genres':'genre'}, inplace=True)\n",
    "tmdb_data.head()"
   ]
  },
  {
   "attachments": {},
   "cell_type": "markdown",
   "metadata": {},
   "source": [
    "Now I am done wrangling this dataset."
   ]
  },
  {
   "attachments": {},
   "cell_type": "markdown",
   "metadata": {},
   "source": [
    "<a id='eda'></a>\n",
    "## Exploratory Data Analysis"
   ]
  },
  {
   "attachments": {},
   "cell_type": "markdown",
   "metadata": {},
   "source": [
    "#### 1. Which 5 genres are dominating the movie industry?"
   ]
  },
  {
   "cell_type": "code",
   "execution_count": null,
   "metadata": {},
   "outputs": [],
   "source": [
    "# Count the number of times each genre is in a movie\n",
    "tmdb_data.genre.value_counts()"
   ]
  },
  {
   "cell_type": "code",
   "execution_count": null,
   "metadata": {},
   "outputs": [],
   "source": [
    "# Plot the first five on a bar chart\n",
    "top_5_genres = tmdb_data.genre.value_counts().nlargest(5)\n",
    "\n",
    "top_5_genres.plot(\n",
    "    kind='bar',\n",
    "    color='green',\n",
    "    title='Top 5 Genres in the Dataset');"
   ]
  },
  {
   "cell_type": "code",
   "execution_count": null,
   "metadata": {},
   "outputs": [],
   "source": [
    "print('The five genres dominating the movie industry are:')\n",
    "for i in top_5_genres.index.to_list():\n",
    "    print(i)"
   ]
  },
  {
   "attachments": {},
   "cell_type": "markdown",
   "metadata": {},
   "source": [
    "#### 2. Are these genres making most of the profits in the movie industry?"
   ]
  },
  {
   "cell_type": "code",
   "execution_count": null,
   "metadata": {},
   "outputs": [],
   "source": [
    "# First, I need to calculate the profit for each record\n",
    "# Record Profit = Record Revenue - Record Budget\n",
    "tmdb_data['profit'] = tmdb_data['revenue'] - tmdb_data['budget']\n",
    "\n",
    "# Then calculate the average profit per genre\n",
    "# And get the top 10 genres by profit\n",
    "top_10_genres_by_profit = tmdb_data.groupby('genre').profit.mean().nlargest(10)\n",
    "\n",
    "# Now display two bar charts:\n",
    "# 1. Showing the top 5 genres in the movie industry\n",
    "# 2. Showing the top 5 genres in the movie industry by profit\n",
    "fig, (ax1, ax2) = plt.subplots(1, 2, figsize=(16, 6), width_ratios=[1.5, 2.5])\n",
    "\n",
    "fig.suptitle('Top Genres in the Movie Industry')\n",
    "\n",
    "# First chart\n",
    "ax1.bar(top_5_genres.index, top_5_genres.values, color='green')\n",
    "ax1.set_title('Top 5 Genres in the movie industry')\n",
    "ax1.tick_params(labelrotation=90)\n",
    "ax1.set_ylabel('Count')\n",
    "\n",
    "# Second chart\n",
    "ax2.bar(top_10_genres_by_profit.index, top_10_genres_by_profit.values, color='blue')\n",
    "ax2.set_title('Top 10 Genres in the movie industry by Profit')\n",
    "ax2.tick_params(labelrotation=90)\n",
    "ax2.set_ylabel('Profit')\n",
    "\n",
    "plt.show()"
   ]
  },
  {
   "attachments": {},
   "cell_type": "markdown",
   "metadata": {},
   "source": [
    "Only two after out of five showed up in the lower half of the top 10 genres by profit."
   ]
  },
  {
   "attachments": {},
   "cell_type": "markdown",
   "metadata": {},
   "source": [
    "**No. The top 5 genres with more movie counts are not making most of the profit in the industry. Action, Thriller and Comedy are profitable but not the most profitable**"
   ]
  },
  {
   "attachments": {},
   "cell_type": "markdown",
   "metadata": {},
   "source": [
    "#### 3. Are these genres the most popular?"
   ]
  },
  {
   "cell_type": "code",
   "execution_count": null,
   "metadata": {},
   "outputs": [],
   "source": [
    "# Calculate the mean popularity for the genres and select the top 10 genres\n",
    "top_10_genres_by_popularity = tmdb_data.groupby('genre').popularity.mean().nlargest(10)\n",
    "\n",
    "# Now display two bar charts:\n",
    "# 1. Showing the top 5 genres in the movie industry\n",
    "# 2. Showing the top 5 genres in the movie industry by popularity\n",
    "fig, (ax3, ax4) = plt.subplots(1, 2, figsize=(16, 6), width_ratios=[1.5, 2.5])\n",
    "\n",
    "fig.suptitle('Top Genres in the Movie Industry')\n",
    "\n",
    "# First chart\n",
    "ax3.bar(top_5_genres.index, top_5_genres.values, color='green')\n",
    "ax3.set_title('Top 5 Genres in the movie industry')\n",
    "ax3.tick_params(labelrotation=90)\n",
    "ax3.set_ylabel('Count')\n",
    "\n",
    "# Second chart\n",
    "ax4.bar(top_10_genres_by_popularity.index, top_10_genres_by_popularity.values, color='red')\n",
    "ax4.set_title('Top 10 Genres in the movie industry by Popularity')\n",
    "ax4.tick_params(labelrotation=90)\n",
    "ax4.set_ylabel('Popularity')\n",
    "\n",
    "plt.show()"
   ]
  },
  {
   "attachments": {},
   "cell_type": "markdown",
   "metadata": {},
   "source": [
    "Action and Thriller are popular as they show up in the top 10 popular genres. But are not the most popular"
   ]
  },
  {
   "attachments": {},
   "cell_type": "markdown",
   "metadata": {},
   "source": [
    "**No. The five genres leading by movie counts are not the most popular in the movie industry**"
   ]
  },
  {
   "attachments": {},
   "cell_type": "markdown",
   "metadata": {},
   "source": [
    "#### 4. Which attribute(s) go with popularity of a movie?"
   ]
  },
  {
   "cell_type": "code",
   "execution_count": null,
   "metadata": {},
   "outputs": [],
   "source": [
    "# Let's see the correlation matrix between the attributes\n",
    "tmdb_data.corr()"
   ]
  },
  {
   "cell_type": "code",
   "execution_count": null,
   "metadata": {},
   "outputs": [],
   "source": [
    "# Visualize the matrix with a heatmap for better interpretation\n",
    "sns.heatmap(tmdb_data.corr(), cmap='YlGnBu', linewidths=0.30, annot=True);"
   ]
  },
  {
   "attachments": {},
   "cell_type": "markdown",
   "metadata": {},
   "source": [
    "Popularity attribute correlates positively with the number of votes for that particular movie. The more the number of votes for a movie the popular it gets."
   ]
  },
  {
   "attachments": {},
   "cell_type": "markdown",
   "metadata": {},
   "source": [
    "Popularity attribute also correlates positively with the budget, revenue and profit. Meaning investing more on a movie will make it popular as streamers will enjoy the quality of the movie"
   ]
  },
  {
   "attachments": {},
   "cell_type": "markdown",
   "metadata": {},
   "source": [
    "Attributes like average vote, release year and runtime doesn't really have any effect on the popularity of a movie"
   ]
  },
  {
   "attachments": {},
   "cell_type": "markdown",
   "metadata": {},
   "source": [
    "#### 5. Which 5 directors would you recommend to your friend? And why?"
   ]
  },
  {
   "attachments": {},
   "cell_type": "markdown",
   "metadata": {},
   "source": [
    "Let's see the relationship between profit and popularity"
   ]
  },
  {
   "cell_type": "code",
   "execution_count": null,
   "metadata": {},
   "outputs": [],
   "source": [
    "# Plot a scatter plot showing the relationship between the popularity and profit a movie\n",
    "plt.scatter(tmdb_data.popularity, tmdb_data.profit, color='green')\n",
    "plt.title('Popularity against Profit')\n",
    "plt.xlabel('Popularity')\n",
    "plt.ylabel('Profit');"
   ]
  },
  {
   "attachments": {},
   "cell_type": "markdown",
   "metadata": {},
   "source": [
    "I can see from my previous analysis that popularity and profit goes hand in hand. My friend will want a director that'll grant him both popularity and profit. So I'll be diving into those two categories specifically."
   ]
  },
  {
   "cell_type": "code",
   "execution_count": null,
   "metadata": {},
   "outputs": [],
   "source": [
    "# Get the top ranking movies data by popularity\n",
    "top_movies_data_by_popularity = tmdb_data[tmdb_data.popularity > tmdb_data.popularity.mean()]\n",
    "\n",
    "# Get the top ranking movies data by profit\n",
    "top_movies_data_by_profit = tmdb_data[tmdb_data.profit > tmdb_data.profit.mean()]\n",
    "\n",
    "# Display two plots of directors with more movie counts int the two categories\n",
    "fig, (ax5, ax6) = plt.subplots(1, 2, figsize=(20, 5))\n",
    "\n",
    "fig.suptitle('Top Ranking Movies')\n",
    "\n",
    "profit_data = top_movies_data_by_profit.groupby('director').director.count().nlargest(10)\n",
    "ax5.set_title('Directors with higher movie count when considering Profit')\n",
    "ax5.bar(profit_data.index, profit_data.values)\n",
    "ax5.tick_params(rotation=90)\n",
    "ax5.set_ylabel('Movie Count')\n",
    "\n",
    "popularity_data = top_movies_data_by_popularity.groupby('director').director.count().nlargest(10)\n",
    "ax6.set_title('Directors with higher movie count when considering Popularity')\n",
    "ax6.bar(popularity_data.index, popularity_data.values)\n",
    "ax6.tick_params(rotation=90)\n",
    "ax6.set_ylabel('Movie Count')\n",
    "\n",
    "plt.show()"
   ]
  },
  {
   "attachments": {},
   "cell_type": "markdown",
   "metadata": {},
   "source": [
    "- The first 4 directors with higher movie count when considering profit are the ones with more more popularity.\n",
    "- Clint Eastwood being the fifth when considering profit is also part of the top 10 when considering popularity.\n",
    "\n",
    "Prioritizing Profit over popularity, I'll recommend the first five directors with more movie counts when considering profit to my friend."
   ]
  },
  {
   "attachments": {},
   "cell_type": "markdown",
   "metadata": {},
   "source": [
    "**I'll recommend *Steven Spielberg, Robert Zenneckis, Tim Burton, Ridley Scott and Clint Eastwood* to my friend because the movies directed by these directors have more profit than any other and their movies are very popular.**"
   ]
  },
  {
   "attachments": {},
   "cell_type": "markdown",
   "metadata": {},
   "source": [
    "<a id='conclusions'></a>\n",
    "## Conclusions"
   ]
  },
  {
   "attachments": {},
   "cell_type": "markdown",
   "metadata": {},
   "source": [
    "- The top 5 genres in the movie industry are *Drama, Comedy, Thriller, Action, Romance*.\n",
    "- These genres are neither the most popular nor the most profitable genre in the movie industry.\n",
    "- Adventure is the most popular and the most profitable genre in the movie industry.\n",
    "- Profit of a particular movie increases as it gets popular.\n",
    "- The runtime, release year and average vote have nothing to do with how popular a movie gets.\n",
    "- But the number of votes a movie gets deeply affect it's popularity\n",
    "- The 5 best directors that I recommend in the industry are **Steven Spielberg, Robert Zenneckis, Tim Burton, Ridley Scott and Clint Eastwood**"
   ]
  }
 ],
 "metadata": {
  "kernelspec": {
   "display_name": "Python 3.10.8 ('analyst')",
   "language": "python",
   "name": "python3"
  },
  "language_info": {
   "codemirror_mode": {
    "name": "ipython",
    "version": 3
   },
   "file_extension": ".py",
   "mimetype": "text/x-python",
   "name": "python",
   "nbconvert_exporter": "python",
   "pygments_lexer": "ipython3",
   "version": "3.10.8"
  },
  "orig_nbformat": 4,
  "vscode": {
   "interpreter": {
    "hash": "019a44f800ef8fdd1dd3163c0de48f12b34ef8ca0d967ecdcd541db7f5a5ffbc"
   }
  }
 },
 "nbformat": 4,
 "nbformat_minor": 2
}
