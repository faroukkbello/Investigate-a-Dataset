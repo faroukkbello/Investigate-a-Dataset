{
 "cells": [
  {
   "cell_type": "code",
   "execution_count": null,
   "metadata": {},
   "outputs": [],
   "source": []
  }
 ],
 "metadata": {
  "kernelspec": {
   "display_name": "Python 3.10.8 ('alx_da')",
   "language": "python",
   "name": "python3"
  },
  "language_info": {
   "name": "python",
   "version": "3.10.8"
  },
  "orig_nbformat": 4,
  "vscode": {
   "interpreter": {
    "hash": "8cc5fd1c62eaf8168a9e3bb627de5cda5de4e513bed0260cf654ec26b41a9f64"
   }
  }
 },
 "nbformat": 4,
 "nbformat_minor": 2
}
