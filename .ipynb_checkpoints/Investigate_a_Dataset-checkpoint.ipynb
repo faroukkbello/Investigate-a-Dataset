{
 "cells": [
  {
   "cell_type": "markdown",
   "metadata": {},
   "source": [
    "# Project:-Investigate a Dataset - TMDb Movie Data\n",
    "## Table of Contents\n",
    "<ul>\n",
    "<li><a href=\"#intro\">Introduction</a></li>\n",
    "<li><a href=\"#wrangling\">Data Wrangling</a></li>\n",
    "<li><a href=\"#eda\">Exploratory Data Analysis</a></li>\n",
    "<li><a href=\"#conclusions\">Conclusions</a></li>\n",
    "</ul>"
   ]
  },
  {
   "cell_type": "markdown",
   "metadata": {},
   "source": [
    "<a id=intro></a>\n",
    "## Introduction\n",
    "\n",
    "### Dataset Description\n",
    "This data set contains information about 10000 movies collected from The Movie Database (TMDb) including user ratings and revenue\n",
    "- id - Unique id for each entry\n",
    "- imdb_id - IMDb id for each movie\n",
    "- popularity - The popularity rating of each movie\n",
    "- budget - The amount dedicated for the production of the movie\n",
    "- revenue - The amount derived after production of the movie\n",
    "- original_title - The original title of each movie\n",
    "- cast - The casts that appeared in the movie\n",
    "- homepage - The homepage of the movie\n",
    "- director - The name of the director that directed the movie\n",
    "- tagline - Short introduction about the movie\n",
    "- keywords - Keywords associated with the movie\n",
    "- overview - Storyline of the movie\n",
    "- runtime - The duration of the movie\n",
    "- genres - The classes that the movie belongs\n",
    "- production_companies - The companies that produced the movie\n",
    "- release_date - The date that the movie was released\n",
    "- vote_count - The number of votes that the movie got\n",
    "- vote_average - The average vote for a particular movie\n",
    "- release_year - The year that the movie was released in\n",
    "- budget_adj - The budget in terms of 2010 dollars\n",
    "- revenue_adj - The revenue in terms of 2010 dollars\n",
    "\n",
    "### Questions for Analysis\n",
    "1. Which 5 genres are dominating the movie industry?\n",
    "2. Are these genres making most of the profits in the movie industry?\n",
    "3. What percentage of success does these movie genres take in the movie industry?\n",
    "4. Are these genres the most popular?\n",
    "5. Whats the relationship between a movie's popularity and its revenue?\n",
    "6. Which 5 directors would you recommend to your friend? And why?"
   ]
  },
  {
   "cell_type": "markdown",
   "metadata": {},
   "source": [
    "#### Import necessariy libraries"
   ]
  },
  {
   "cell_type": "code",
   "execution_count": 1,
   "metadata": {},
   "outputs": [],
   "source": [
    "import numpy as np\n",
    "import pandas as pd\n",
    "import matplotlib.pyplot as plt\n",
    "import seaborn as sns\n",
    "%matplotlib inline"
   ]
  },
  {
   "cell_type": "markdown",
   "metadata": {},
   "source": [
    "<a id='wrangling'></a>\n",
    "## Data Wrangling"
   ]
  },
  {
   "cell_type": "markdown",
   "metadata": {},
   "source": [
    "**Gather the data to use for our analysis**"
   ]
  },
  {
   "cell_type": "code",
   "execution_count": 2,
   "metadata": {},
   "outputs": [
    {
     "data": {
      "text/html": [
       "<div>\n",
       "<style scoped>\n",
       "    .dataframe tbody tr th:only-of-type {\n",
       "        vertical-align: middle;\n",
       "    }\n",
       "\n",
       "    .dataframe tbody tr th {\n",
       "        vertical-align: top;\n",
       "    }\n",
       "\n",
       "    .dataframe thead th {\n",
       "        text-align: right;\n",
       "    }\n",
       "</style>\n",
       "<table border=\"1\" class=\"dataframe\">\n",
       "  <thead>\n",
       "    <tr style=\"text-align: right;\">\n",
       "      <th></th>\n",
       "      <th>id</th>\n",
       "      <th>imdb_id</th>\n",
       "      <th>popularity</th>\n",
       "      <th>budget</th>\n",
       "      <th>revenue</th>\n",
       "      <th>original_title</th>\n",
       "      <th>cast</th>\n",
       "      <th>homepage</th>\n",
       "      <th>director</th>\n",
       "      <th>tagline</th>\n",
       "      <th>...</th>\n",
       "      <th>overview</th>\n",
       "      <th>runtime</th>\n",
       "      <th>genres</th>\n",
       "      <th>production_companies</th>\n",
       "      <th>release_date</th>\n",
       "      <th>vote_count</th>\n",
       "      <th>vote_average</th>\n",
       "      <th>release_year</th>\n",
       "      <th>budget_adj</th>\n",
       "      <th>revenue_adj</th>\n",
       "    </tr>\n",
       "  </thead>\n",
       "  <tbody>\n",
       "    <tr>\n",
       "      <th>0</th>\n",
       "      <td>135397</td>\n",
       "      <td>tt0369610</td>\n",
       "      <td>32.985763</td>\n",
       "      <td>150000000</td>\n",
       "      <td>1513528810</td>\n",
       "      <td>Jurassic World</td>\n",
       "      <td>Chris Pratt|Bryce Dallas Howard|Irrfan Khan|Vi...</td>\n",
       "      <td>http://www.jurassicworld.com/</td>\n",
       "      <td>Colin Trevorrow</td>\n",
       "      <td>The park is open.</td>\n",
       "      <td>...</td>\n",
       "      <td>Twenty-two years after the events of Jurassic ...</td>\n",
       "      <td>124</td>\n",
       "      <td>Action|Adventure|Science Fiction|Thriller</td>\n",
       "      <td>Universal Studios|Amblin Entertainment|Legenda...</td>\n",
       "      <td>6/9/15</td>\n",
       "      <td>5562</td>\n",
       "      <td>6.5</td>\n",
       "      <td>2015</td>\n",
       "      <td>137999939.3</td>\n",
       "      <td>1.392446e+09</td>\n",
       "    </tr>\n",
       "    <tr>\n",
       "      <th>1</th>\n",
       "      <td>76341</td>\n",
       "      <td>tt1392190</td>\n",
       "      <td>28.419936</td>\n",
       "      <td>150000000</td>\n",
       "      <td>378436354</td>\n",
       "      <td>Mad Max: Fury Road</td>\n",
       "      <td>Tom Hardy|Charlize Theron|Hugh Keays-Byrne|Nic...</td>\n",
       "      <td>http://www.madmaxmovie.com/</td>\n",
       "      <td>George Miller</td>\n",
       "      <td>What a Lovely Day.</td>\n",
       "      <td>...</td>\n",
       "      <td>An apocalyptic story set in the furthest reach...</td>\n",
       "      <td>120</td>\n",
       "      <td>Action|Adventure|Science Fiction|Thriller</td>\n",
       "      <td>Village Roadshow Pictures|Kennedy Miller Produ...</td>\n",
       "      <td>5/13/15</td>\n",
       "      <td>6185</td>\n",
       "      <td>7.1</td>\n",
       "      <td>2015</td>\n",
       "      <td>137999939.3</td>\n",
       "      <td>3.481613e+08</td>\n",
       "    </tr>\n",
       "    <tr>\n",
       "      <th>2</th>\n",
       "      <td>262500</td>\n",
       "      <td>tt2908446</td>\n",
       "      <td>13.112507</td>\n",
       "      <td>110000000</td>\n",
       "      <td>295238201</td>\n",
       "      <td>Insurgent</td>\n",
       "      <td>Shailene Woodley|Theo James|Kate Winslet|Ansel...</td>\n",
       "      <td>http://www.thedivergentseries.movie/#insurgent</td>\n",
       "      <td>Robert Schwentke</td>\n",
       "      <td>One Choice Can Destroy You</td>\n",
       "      <td>...</td>\n",
       "      <td>Beatrice Prior must confront her inner demons ...</td>\n",
       "      <td>119</td>\n",
       "      <td>Adventure|Science Fiction|Thriller</td>\n",
       "      <td>Summit Entertainment|Mandeville Films|Red Wago...</td>\n",
       "      <td>3/18/15</td>\n",
       "      <td>2480</td>\n",
       "      <td>6.3</td>\n",
       "      <td>2015</td>\n",
       "      <td>101199955.5</td>\n",
       "      <td>2.716190e+08</td>\n",
       "    </tr>\n",
       "    <tr>\n",
       "      <th>3</th>\n",
       "      <td>140607</td>\n",
       "      <td>tt2488496</td>\n",
       "      <td>11.173104</td>\n",
       "      <td>200000000</td>\n",
       "      <td>2068178225</td>\n",
       "      <td>Star Wars: The Force Awakens</td>\n",
       "      <td>Harrison Ford|Mark Hamill|Carrie Fisher|Adam D...</td>\n",
       "      <td>http://www.starwars.com/films/star-wars-episod...</td>\n",
       "      <td>J.J. Abrams</td>\n",
       "      <td>Every generation has a story.</td>\n",
       "      <td>...</td>\n",
       "      <td>Thirty years after defeating the Galactic Empi...</td>\n",
       "      <td>136</td>\n",
       "      <td>Action|Adventure|Science Fiction|Fantasy</td>\n",
       "      <td>Lucasfilm|Truenorth Productions|Bad Robot</td>\n",
       "      <td>12/15/15</td>\n",
       "      <td>5292</td>\n",
       "      <td>7.5</td>\n",
       "      <td>2015</td>\n",
       "      <td>183999919.0</td>\n",
       "      <td>1.902723e+09</td>\n",
       "    </tr>\n",
       "    <tr>\n",
       "      <th>4</th>\n",
       "      <td>168259</td>\n",
       "      <td>tt2820852</td>\n",
       "      <td>9.335014</td>\n",
       "      <td>190000000</td>\n",
       "      <td>1506249360</td>\n",
       "      <td>Furious 7</td>\n",
       "      <td>Vin Diesel|Paul Walker|Jason Statham|Michelle ...</td>\n",
       "      <td>http://www.furious7.com/</td>\n",
       "      <td>James Wan</td>\n",
       "      <td>Vengeance Hits Home</td>\n",
       "      <td>...</td>\n",
       "      <td>Deckard Shaw seeks revenge against Dominic Tor...</td>\n",
       "      <td>137</td>\n",
       "      <td>Action|Crime|Thriller</td>\n",
       "      <td>Universal Pictures|Original Film|Media Rights ...</td>\n",
       "      <td>4/1/15</td>\n",
       "      <td>2947</td>\n",
       "      <td>7.3</td>\n",
       "      <td>2015</td>\n",
       "      <td>174799923.1</td>\n",
       "      <td>1.385749e+09</td>\n",
       "    </tr>\n",
       "  </tbody>\n",
       "</table>\n",
       "<p>5 rows × 21 columns</p>\n",
       "</div>"
      ],
      "text/plain": [
       "       id    imdb_id  popularity     budget     revenue  \\\n",
       "0  135397  tt0369610   32.985763  150000000  1513528810   \n",
       "1   76341  tt1392190   28.419936  150000000   378436354   \n",
       "2  262500  tt2908446   13.112507  110000000   295238201   \n",
       "3  140607  tt2488496   11.173104  200000000  2068178225   \n",
       "4  168259  tt2820852    9.335014  190000000  1506249360   \n",
       "\n",
       "                 original_title  \\\n",
       "0                Jurassic World   \n",
       "1            Mad Max: Fury Road   \n",
       "2                     Insurgent   \n",
       "3  Star Wars: The Force Awakens   \n",
       "4                     Furious 7   \n",
       "\n",
       "                                                cast  \\\n",
       "0  Chris Pratt|Bryce Dallas Howard|Irrfan Khan|Vi...   \n",
       "1  Tom Hardy|Charlize Theron|Hugh Keays-Byrne|Nic...   \n",
       "2  Shailene Woodley|Theo James|Kate Winslet|Ansel...   \n",
       "3  Harrison Ford|Mark Hamill|Carrie Fisher|Adam D...   \n",
       "4  Vin Diesel|Paul Walker|Jason Statham|Michelle ...   \n",
       "\n",
       "                                            homepage          director  \\\n",
       "0                      http://www.jurassicworld.com/   Colin Trevorrow   \n",
       "1                        http://www.madmaxmovie.com/     George Miller   \n",
       "2     http://www.thedivergentseries.movie/#insurgent  Robert Schwentke   \n",
       "3  http://www.starwars.com/films/star-wars-episod...       J.J. Abrams   \n",
       "4                           http://www.furious7.com/         James Wan   \n",
       "\n",
       "                         tagline  ...  \\\n",
       "0              The park is open.  ...   \n",
       "1             What a Lovely Day.  ...   \n",
       "2     One Choice Can Destroy You  ...   \n",
       "3  Every generation has a story.  ...   \n",
       "4            Vengeance Hits Home  ...   \n",
       "\n",
       "                                            overview runtime  \\\n",
       "0  Twenty-two years after the events of Jurassic ...     124   \n",
       "1  An apocalyptic story set in the furthest reach...     120   \n",
       "2  Beatrice Prior must confront her inner demons ...     119   \n",
       "3  Thirty years after defeating the Galactic Empi...     136   \n",
       "4  Deckard Shaw seeks revenge against Dominic Tor...     137   \n",
       "\n",
       "                                      genres  \\\n",
       "0  Action|Adventure|Science Fiction|Thriller   \n",
       "1  Action|Adventure|Science Fiction|Thriller   \n",
       "2         Adventure|Science Fiction|Thriller   \n",
       "3   Action|Adventure|Science Fiction|Fantasy   \n",
       "4                      Action|Crime|Thriller   \n",
       "\n",
       "                                production_companies release_date vote_count  \\\n",
       "0  Universal Studios|Amblin Entertainment|Legenda...       6/9/15       5562   \n",
       "1  Village Roadshow Pictures|Kennedy Miller Produ...      5/13/15       6185   \n",
       "2  Summit Entertainment|Mandeville Films|Red Wago...      3/18/15       2480   \n",
       "3          Lucasfilm|Truenorth Productions|Bad Robot     12/15/15       5292   \n",
       "4  Universal Pictures|Original Film|Media Rights ...       4/1/15       2947   \n",
       "\n",
       "   vote_average  release_year   budget_adj   revenue_adj  \n",
       "0           6.5          2015  137999939.3  1.392446e+09  \n",
       "1           7.1          2015  137999939.3  3.481613e+08  \n",
       "2           6.3          2015  101199955.5  2.716190e+08  \n",
       "3           7.5          2015  183999919.0  1.902723e+09  \n",
       "4           7.3          2015  174799923.1  1.385749e+09  \n",
       "\n",
       "[5 rows x 21 columns]"
      ]
     },
     "execution_count": 2,
     "metadata": {},
     "output_type": "execute_result"
    }
   ],
   "source": [
    "# Use pandas 'read_csv()' function to load in the csv file that holds our data\n",
    "tmdb_data = pd.read_csv('tmdb-movies.csv')\n",
    "\n",
    "# Confirm the operation by displaying the first five records with pandas 'head()' function\n",
    "tmdb_data.head()"
   ]
  },
  {
   "cell_type": "code",
   "execution_count": 3,
   "metadata": {},
   "outputs": [
    {
     "name": "stdout",
     "output_type": "stream",
     "text": [
      "We have  10866 records and  21 attributes in the TMDb Movies Dataset\n"
     ]
    }
   ],
   "source": [
    "# How many records and columns do we have in this data\n",
    "shape = tmdb_data.shape\n",
    "print('We have ', shape[0], 'records and ', shape[1], 'attributes in the TMDb Movies Dataset')"
   ]
  },
  {
   "cell_type": "markdown",
   "metadata": {},
   "source": [
    "**Assess the data for analysis**"
   ]
  },
  {
   "cell_type": "code",
   "execution_count": 4,
   "metadata": {},
   "outputs": [
    {
     "name": "stdout",
     "output_type": "stream",
     "text": [
      "<class 'pandas.core.frame.DataFrame'>\n",
      "RangeIndex: 10866 entries, 0 to 10865\n",
      "Data columns (total 21 columns):\n",
      " #   Column                Non-Null Count  Dtype  \n",
      "---  ------                --------------  -----  \n",
      " 0   id                    10866 non-null  int64  \n",
      " 1   imdb_id               10856 non-null  object \n",
      " 2   popularity            10866 non-null  float64\n",
      " 3   budget                10866 non-null  int64  \n",
      " 4   revenue               10866 non-null  int64  \n",
      " 5   original_title        10866 non-null  object \n",
      " 6   cast                  10790 non-null  object \n",
      " 7   homepage              2936 non-null   object \n",
      " 8   director              10822 non-null  object \n",
      " 9   tagline               8042 non-null   object \n",
      " 10  keywords              9373 non-null   object \n",
      " 11  overview              10862 non-null  object \n",
      " 12  runtime               10866 non-null  int64  \n",
      " 13  genres                10843 non-null  object \n",
      " 14  production_companies  9836 non-null   object \n",
      " 15  release_date          10866 non-null  object \n",
      " 16  vote_count            10866 non-null  int64  \n",
      " 17  vote_average          10866 non-null  float64\n",
      " 18  release_year          10866 non-null  int64  \n",
      " 19  budget_adj            10866 non-null  float64\n",
      " 20  revenue_adj           10866 non-null  float64\n",
      "dtypes: float64(4), int64(6), object(11)\n",
      "memory usage: 1.7+ MB\n"
     ]
    }
   ],
   "source": [
    "# What are the attributes we have in these dataset are they all needed for our analysis?\n",
    "tmdb_data.info()"
   ]
  },
  {
   "cell_type": "markdown",
   "metadata": {},
   "source": [
    "**Clean the data for analysis**"
   ]
  },
  {
   "cell_type": "markdown",
   "metadata": {},
   "source": [
    "- I will remove *id* attribute leaving imdb_id as the unique identifier."
   ]
  },
  {
   "cell_type": "code",
   "execution_count": 5,
   "metadata": {},
   "outputs": [
    {
     "name": "stdout",
     "output_type": "stream",
     "text": [
      "id attribute in the dataset? False\n"
     ]
    }
   ],
   "source": [
    "# Remove 'id' attribute from the data\n",
    "tmdb_data.drop('id', axis=1, inplace=True)\n",
    "\n",
    "# A custom function to check if attribute removal is successful\n",
    "def check_attribute_status(attr_names:list):\n",
    "    # Get the attributes in the dataset we're working with\n",
    "    attributes = tmdb_data.columns\n",
    "\n",
    "    # Loop through the list of attributes supplied\n",
    "    for i in attr_names:\n",
    "        # Checks if the attribute is in the dataset\n",
    "        state = i in attributes\n",
    "\n",
    "        # Print out a text stating if the attribute is in the dataset or not\n",
    "        print(i, 'attribute in the dataset?', state)\n",
    "    \n",
    "\n",
    "# Check if we have indeed removed the column\n",
    "check_attribute_status(['id']) # Should return False"
   ]
  },
  {
   "cell_type": "markdown",
   "metadata": {},
   "source": [
    "- I will remove *cast, homepage, tagline, keywords, overview, release_date, budget_adj and revenue_adj* attributes from the dataset as I don't need them for my analysis"
   ]
  },
  {
   "cell_type": "code",
   "execution_count": 6,
   "metadata": {},
   "outputs": [
    {
     "name": "stdout",
     "output_type": "stream",
     "text": [
      "cast attribute in the dataset? False\n",
      "homepage attribute in the dataset? False\n",
      "tagline attribute in the dataset? False\n",
      "keywords attribute in the dataset? False\n",
      "overview attribute in the dataset? False\n",
      "release_date attribute in the dataset? False\n",
      "budget_adj attribute in the dataset? False\n",
      "revenue_adj attribute in the dataset? False\n"
     ]
    }
   ],
   "source": [
    "# Remove 'homepage, tagline, keywords, overview, release_date, budget_adj and revenue_adj' attributes from the dataset\n",
    "tmdb_data.drop(columns=['cast', 'homepage', 'tagline', 'keywords', 'overview', 'release_date', 'budget_adj', 'revenue_adj'], inplace=True)\n",
    "\n",
    "# Validate the operation by checking if they are still in the dataset\n",
    "check_attribute_status(['cast', 'homepage', 'tagline', 'keywords', 'overview', 'release_date', 'budget_adj', 'revenue_adj'])"
   ]
  },
  {
   "cell_type": "markdown",
   "metadata": {},
   "source": [
    "Are all these records unique? Let's check"
   ]
  },
  {
   "cell_type": "code",
   "execution_count": 7,
   "metadata": {},
   "outputs": [
    {
     "data": {
      "text/plain": [
       "1"
      ]
     },
     "execution_count": 7,
     "metadata": {},
     "output_type": "execute_result"
    }
   ],
   "source": [
    "# Check for duplicated records\n",
    "tmdb_data.duplicated().sum()"
   ]
  },
  {
   "cell_type": "code",
   "execution_count": 8,
   "metadata": {},
   "outputs": [
    {
     "data": {
      "text/html": [
       "<div>\n",
       "<style scoped>\n",
       "    .dataframe tbody tr th:only-of-type {\n",
       "        vertical-align: middle;\n",
       "    }\n",
       "\n",
       "    .dataframe tbody tr th {\n",
       "        vertical-align: top;\n",
       "    }\n",
       "\n",
       "    .dataframe thead th {\n",
       "        text-align: right;\n",
       "    }\n",
       "</style>\n",
       "<table border=\"1\" class=\"dataframe\">\n",
       "  <thead>\n",
       "    <tr style=\"text-align: right;\">\n",
       "      <th></th>\n",
       "      <th>imdb_id</th>\n",
       "      <th>popularity</th>\n",
       "      <th>budget</th>\n",
       "      <th>revenue</th>\n",
       "      <th>original_title</th>\n",
       "      <th>director</th>\n",
       "      <th>runtime</th>\n",
       "      <th>genres</th>\n",
       "      <th>production_companies</th>\n",
       "      <th>vote_count</th>\n",
       "      <th>vote_average</th>\n",
       "      <th>release_year</th>\n",
       "    </tr>\n",
       "  </thead>\n",
       "  <tbody>\n",
       "    <tr>\n",
       "      <th>2090</th>\n",
       "      <td>tt0411951</td>\n",
       "      <td>0.59643</td>\n",
       "      <td>30000000</td>\n",
       "      <td>967000</td>\n",
       "      <td>TEKKEN</td>\n",
       "      <td>Dwight H. Little</td>\n",
       "      <td>92</td>\n",
       "      <td>Crime|Drama|Action|Thriller|Science Fiction</td>\n",
       "      <td>Namco|Light Song Films</td>\n",
       "      <td>110</td>\n",
       "      <td>5.0</td>\n",
       "      <td>2010</td>\n",
       "    </tr>\n",
       "  </tbody>\n",
       "</table>\n",
       "</div>"
      ],
      "text/plain": [
       "        imdb_id  popularity    budget  revenue original_title  \\\n",
       "2090  tt0411951     0.59643  30000000   967000         TEKKEN   \n",
       "\n",
       "              director  runtime                                       genres  \\\n",
       "2090  Dwight H. Little       92  Crime|Drama|Action|Thriller|Science Fiction   \n",
       "\n",
       "        production_companies  vote_count  vote_average  release_year  \n",
       "2090  Namco|Light Song Films         110           5.0          2010  "
      ]
     },
     "execution_count": 8,
     "metadata": {},
     "output_type": "execute_result"
    }
   ],
   "source": [
    "# View the duplicate(s)\n",
    "tmdb_data[tmdb_data.duplicated()]"
   ]
  },
  {
   "cell_type": "code",
   "execution_count": 9,
   "metadata": {},
   "outputs": [
    {
     "data": {
      "text/html": [
       "<div>\n",
       "<style scoped>\n",
       "    .dataframe tbody tr th:only-of-type {\n",
       "        vertical-align: middle;\n",
       "    }\n",
       "\n",
       "    .dataframe tbody tr th {\n",
       "        vertical-align: top;\n",
       "    }\n",
       "\n",
       "    .dataframe thead th {\n",
       "        text-align: right;\n",
       "    }\n",
       "</style>\n",
       "<table border=\"1\" class=\"dataframe\">\n",
       "  <thead>\n",
       "    <tr style=\"text-align: right;\">\n",
       "      <th></th>\n",
       "      <th>imdb_id</th>\n",
       "      <th>popularity</th>\n",
       "      <th>budget</th>\n",
       "      <th>revenue</th>\n",
       "      <th>original_title</th>\n",
       "      <th>director</th>\n",
       "      <th>runtime</th>\n",
       "      <th>genres</th>\n",
       "      <th>production_companies</th>\n",
       "      <th>vote_count</th>\n",
       "      <th>vote_average</th>\n",
       "      <th>release_year</th>\n",
       "    </tr>\n",
       "  </thead>\n",
       "  <tbody>\n",
       "    <tr>\n",
       "      <th>2089</th>\n",
       "      <td>tt0411951</td>\n",
       "      <td>0.59643</td>\n",
       "      <td>30000000</td>\n",
       "      <td>967000</td>\n",
       "      <td>TEKKEN</td>\n",
       "      <td>Dwight H. Little</td>\n",
       "      <td>92</td>\n",
       "      <td>Crime|Drama|Action|Thriller|Science Fiction</td>\n",
       "      <td>Namco|Light Song Films</td>\n",
       "      <td>110</td>\n",
       "      <td>5.0</td>\n",
       "      <td>2010</td>\n",
       "    </tr>\n",
       "    <tr>\n",
       "      <th>2090</th>\n",
       "      <td>tt0411951</td>\n",
       "      <td>0.59643</td>\n",
       "      <td>30000000</td>\n",
       "      <td>967000</td>\n",
       "      <td>TEKKEN</td>\n",
       "      <td>Dwight H. Little</td>\n",
       "      <td>92</td>\n",
       "      <td>Crime|Drama|Action|Thriller|Science Fiction</td>\n",
       "      <td>Namco|Light Song Films</td>\n",
       "      <td>110</td>\n",
       "      <td>5.0</td>\n",
       "      <td>2010</td>\n",
       "    </tr>\n",
       "  </tbody>\n",
       "</table>\n",
       "</div>"
      ],
      "text/plain": [
       "        imdb_id  popularity    budget  revenue original_title  \\\n",
       "2089  tt0411951     0.59643  30000000   967000         TEKKEN   \n",
       "2090  tt0411951     0.59643  30000000   967000         TEKKEN   \n",
       "\n",
       "              director  runtime                                       genres  \\\n",
       "2089  Dwight H. Little       92  Crime|Drama|Action|Thriller|Science Fiction   \n",
       "2090  Dwight H. Little       92  Crime|Drama|Action|Thriller|Science Fiction   \n",
       "\n",
       "        production_companies  vote_count  vote_average  release_year  \n",
       "2089  Namco|Light Song Films         110           5.0          2010  \n",
       "2090  Namco|Light Song Films         110           5.0          2010  "
      ]
     },
     "execution_count": 9,
     "metadata": {},
     "output_type": "execute_result"
    }
   ],
   "source": [
    "# View both records simultaneously\n",
    "# Use the original title to get both\n",
    "tmdb_data.query('original_title == \"TEKKEN\"')"
   ]
  },
  {
   "cell_type": "code",
   "execution_count": 10,
   "metadata": {},
   "outputs": [
    {
     "data": {
      "text/plain": [
       "0"
      ]
     },
     "execution_count": 10,
     "metadata": {},
     "output_type": "execute_result"
    }
   ],
   "source": [
    "# Drop the duplicates\n",
    "tmdb_data.drop_duplicates(inplace=True)\n",
    "\n",
    "# Check again to verify the duplucate is out of the dataset\n",
    "tmdb_data.duplicated().sum()"
   ]
  },
  {
   "cell_type": "markdown",
   "metadata": {},
   "source": [
    "Do we have null values in our records? How many for each attribute?"
   ]
  },
  {
   "cell_type": "code",
   "execution_count": 11,
   "metadata": {},
   "outputs": [
    {
     "data": {
      "text/plain": [
       "imdb_id                  True\n",
       "popularity              False\n",
       "budget                  False\n",
       "revenue                 False\n",
       "original_title          False\n",
       "director                 True\n",
       "runtime                 False\n",
       "genres                   True\n",
       "production_companies     True\n",
       "vote_count              False\n",
       "vote_average            False\n",
       "release_year            False\n",
       "dtype: bool"
      ]
     },
     "execution_count": 11,
     "metadata": {},
     "output_type": "execute_result"
    }
   ],
   "source": [
    "# Check if the attributes contain null values\n",
    "tmdb_data.isnull().any()"
   ]
  },
  {
   "cell_type": "code",
   "execution_count": 12,
   "metadata": {},
   "outputs": [
    {
     "data": {
      "text/plain": [
       "imdb_id                   10\n",
       "popularity                 0\n",
       "budget                     0\n",
       "revenue                    0\n",
       "original_title             0\n",
       "director                  44\n",
       "runtime                    0\n",
       "genres                    23\n",
       "production_companies    1030\n",
       "vote_count                 0\n",
       "vote_average               0\n",
       "release_year               0\n",
       "dtype: int64"
      ]
     },
     "execution_count": 12,
     "metadata": {},
     "output_type": "execute_result"
    }
   ],
   "source": [
    "# Count the null values for each attribute\n",
    "tmdb_data.isnull().sum()"
   ]
  },
  {
   "cell_type": "markdown",
   "metadata": {},
   "source": [
    "Our dataset contain null values with production_companies containing the most. This attribute is not really needed for our analysis so let's drop it."
   ]
  },
  {
   "cell_type": "code",
   "execution_count": 13,
   "metadata": {},
   "outputs": [
    {
     "name": "stdout",
     "output_type": "stream",
     "text": [
      "production_companies attribute in the dataset? False\n"
     ]
    }
   ],
   "source": [
    "# Drop the production_companies attribute\n",
    "tmdb_data.drop('production_companies', axis=1, inplace=True)\n",
    "\n",
    "# Validate the operation\n",
    "check_attribute_status(['production_companies'])"
   ]
  },
  {
   "cell_type": "code",
   "execution_count": 14,
   "metadata": {},
   "outputs": [
    {
     "data": {
      "text/plain": [
       "imdb_id           10\n",
       "popularity         0\n",
       "budget             0\n",
       "revenue            0\n",
       "original_title     0\n",
       "director          44\n",
       "runtime            0\n",
       "genres            23\n",
       "vote_count         0\n",
       "vote_average       0\n",
       "release_year       0\n",
       "dtype: int64"
      ]
     },
     "execution_count": 14,
     "metadata": {},
     "output_type": "execute_result"
    }
   ],
   "source": [
    "# Check the null values for each attribute\n",
    "tmdb_data.isnull().sum()"
   ]
  },
  {
   "cell_type": "markdown",
   "metadata": {},
   "source": [
    "Assuming each null value is a unique record; Let's add them up and see the percentage of the null values relative to the number of records we have in the dataset"
   ]
  },
  {
   "cell_type": "code",
   "execution_count": 15,
   "metadata": {},
   "outputs": [
    {
     "name": "stdout",
     "output_type": "stream",
     "text": [
      "Null values in our modified dataset takes up 0.71% of the records\n"
     ]
    }
   ],
   "source": [
    "total_null = tmdb_data.isnull().sum().sum() # Sum of all the null values together\n",
    "total_records = tmdb_data.shape[0] # Get the number of records in our dataset\n",
    "\n",
    "print('Null values in our modified dataset takes up {:.2%} of the records'.format(total_null/total_records))"
   ]
  },
  {
   "cell_type": "markdown",
   "metadata": {},
   "source": [
    "The null values takes less than 1% of the records so we can remove the individual records with null values"
   ]
  },
  {
   "cell_type": "code",
   "execution_count": 16,
   "metadata": {},
   "outputs": [],
   "source": [
    "# The function to remove null values from our dataset\n",
    "def remove_nulls(attr_name):\n",
    "    # Extract the null records from the dataframe\n",
    "    null_df = tmdb_data[tmdb_data[attr_name].isnull()]\n",
    "\n",
    "    # Remove records with the same index in the null dataframe\n",
    "    tmdb_data.drop(index=null_df.index, inplace=True)\n",
    "\n",
    "    # Print a statement to the console stating the number of nulls in the particular attribute\n",
    "    print('Attribute', attr_name, 'contains', tmdb_data[attr_name].isnull().sum(), 'null value(s)')"
   ]
  },
  {
   "cell_type": "code",
   "execution_count": 17,
   "metadata": {},
   "outputs": [
    {
     "name": "stdout",
     "output_type": "stream",
     "text": [
      "Attribute imdb_id contains 0 null value(s)\n",
      "Attribute director contains 0 null value(s)\n",
      "Attribute genres contains 0 null value(s)\n"
     ]
    }
   ],
   "source": [
    "# Remove null records from our dataset using the function created earlier\n",
    "remove_nulls('imdb_id')\n",
    "remove_nulls('director')\n",
    "remove_nulls('genres')"
   ]
  },
  {
   "cell_type": "code",
   "execution_count": 18,
   "metadata": {},
   "outputs": [
    {
     "data": {
      "text/plain": [
       "imdb_id           0\n",
       "popularity        0\n",
       "budget            0\n",
       "revenue           0\n",
       "original_title    0\n",
       "director          0\n",
       "runtime           0\n",
       "genres            0\n",
       "vote_count        0\n",
       "vote_average      0\n",
       "release_year      0\n",
       "dtype: int64"
      ]
     },
     "execution_count": 18,
     "metadata": {},
     "output_type": "execute_result"
    }
   ],
   "source": [
    "# Check for null values\n",
    "tmdb_data.isnull().sum()"
   ]
  },
  {
   "cell_type": "markdown",
   "metadata": {},
   "source": [
    "Now that we're done with null values let's assses the dtypes of our attributes"
   ]
  },
  {
   "cell_type": "code",
   "execution_count": 19,
   "metadata": {},
   "outputs": [
    {
     "data": {
      "text/plain": [
       "imdb_id            object\n",
       "popularity        float64\n",
       "budget              int64\n",
       "revenue             int64\n",
       "original_title     object\n",
       "director           object\n",
       "runtime             int64\n",
       "genres             object\n",
       "vote_count          int64\n",
       "vote_average      float64\n",
       "release_year        int64\n",
       "dtype: object"
      ]
     },
     "execution_count": 19,
     "metadata": {},
     "output_type": "execute_result"
    }
   ],
   "source": [
    "# Display the data types of our attributes\n",
    "tmdb_data.dtypes"
   ]
  },
  {
   "cell_type": "markdown",
   "metadata": {},
   "source": [
    "Our data types are good. I can start exploring and manipulating. Let's have a quick view once more."
   ]
  },
  {
   "cell_type": "code",
   "execution_count": 20,
   "metadata": {},
   "outputs": [
    {
     "data": {
      "text/html": [
       "<div>\n",
       "<style scoped>\n",
       "    .dataframe tbody tr th:only-of-type {\n",
       "        vertical-align: middle;\n",
       "    }\n",
       "\n",
       "    .dataframe tbody tr th {\n",
       "        vertical-align: top;\n",
       "    }\n",
       "\n",
       "    .dataframe thead th {\n",
       "        text-align: right;\n",
       "    }\n",
       "</style>\n",
       "<table border=\"1\" class=\"dataframe\">\n",
       "  <thead>\n",
       "    <tr style=\"text-align: right;\">\n",
       "      <th></th>\n",
       "      <th>imdb_id</th>\n",
       "      <th>popularity</th>\n",
       "      <th>budget</th>\n",
       "      <th>revenue</th>\n",
       "      <th>original_title</th>\n",
       "      <th>director</th>\n",
       "      <th>runtime</th>\n",
       "      <th>genres</th>\n",
       "      <th>vote_count</th>\n",
       "      <th>vote_average</th>\n",
       "      <th>release_year</th>\n",
       "    </tr>\n",
       "  </thead>\n",
       "  <tbody>\n",
       "    <tr>\n",
       "      <th>0</th>\n",
       "      <td>tt0369610</td>\n",
       "      <td>32.985763</td>\n",
       "      <td>150000000</td>\n",
       "      <td>1513528810</td>\n",
       "      <td>Jurassic World</td>\n",
       "      <td>Colin Trevorrow</td>\n",
       "      <td>124</td>\n",
       "      <td>Action|Adventure|Science Fiction|Thriller</td>\n",
       "      <td>5562</td>\n",
       "      <td>6.5</td>\n",
       "      <td>2015</td>\n",
       "    </tr>\n",
       "    <tr>\n",
       "      <th>1</th>\n",
       "      <td>tt1392190</td>\n",
       "      <td>28.419936</td>\n",
       "      <td>150000000</td>\n",
       "      <td>378436354</td>\n",
       "      <td>Mad Max: Fury Road</td>\n",
       "      <td>George Miller</td>\n",
       "      <td>120</td>\n",
       "      <td>Action|Adventure|Science Fiction|Thriller</td>\n",
       "      <td>6185</td>\n",
       "      <td>7.1</td>\n",
       "      <td>2015</td>\n",
       "    </tr>\n",
       "    <tr>\n",
       "      <th>2</th>\n",
       "      <td>tt2908446</td>\n",
       "      <td>13.112507</td>\n",
       "      <td>110000000</td>\n",
       "      <td>295238201</td>\n",
       "      <td>Insurgent</td>\n",
       "      <td>Robert Schwentke</td>\n",
       "      <td>119</td>\n",
       "      <td>Adventure|Science Fiction|Thriller</td>\n",
       "      <td>2480</td>\n",
       "      <td>6.3</td>\n",
       "      <td>2015</td>\n",
       "    </tr>\n",
       "    <tr>\n",
       "      <th>3</th>\n",
       "      <td>tt2488496</td>\n",
       "      <td>11.173104</td>\n",
       "      <td>200000000</td>\n",
       "      <td>2068178225</td>\n",
       "      <td>Star Wars: The Force Awakens</td>\n",
       "      <td>J.J. Abrams</td>\n",
       "      <td>136</td>\n",
       "      <td>Action|Adventure|Science Fiction|Fantasy</td>\n",
       "      <td>5292</td>\n",
       "      <td>7.5</td>\n",
       "      <td>2015</td>\n",
       "    </tr>\n",
       "    <tr>\n",
       "      <th>4</th>\n",
       "      <td>tt2820852</td>\n",
       "      <td>9.335014</td>\n",
       "      <td>190000000</td>\n",
       "      <td>1506249360</td>\n",
       "      <td>Furious 7</td>\n",
       "      <td>James Wan</td>\n",
       "      <td>137</td>\n",
       "      <td>Action|Crime|Thriller</td>\n",
       "      <td>2947</td>\n",
       "      <td>7.3</td>\n",
       "      <td>2015</td>\n",
       "    </tr>\n",
       "  </tbody>\n",
       "</table>\n",
       "</div>"
      ],
      "text/plain": [
       "     imdb_id  popularity     budget     revenue                original_title  \\\n",
       "0  tt0369610   32.985763  150000000  1513528810                Jurassic World   \n",
       "1  tt1392190   28.419936  150000000   378436354            Mad Max: Fury Road   \n",
       "2  tt2908446   13.112507  110000000   295238201                     Insurgent   \n",
       "3  tt2488496   11.173104  200000000  2068178225  Star Wars: The Force Awakens   \n",
       "4  tt2820852    9.335014  190000000  1506249360                     Furious 7   \n",
       "\n",
       "           director  runtime                                     genres  \\\n",
       "0   Colin Trevorrow      124  Action|Adventure|Science Fiction|Thriller   \n",
       "1     George Miller      120  Action|Adventure|Science Fiction|Thriller   \n",
       "2  Robert Schwentke      119         Adventure|Science Fiction|Thriller   \n",
       "3       J.J. Abrams      136   Action|Adventure|Science Fiction|Fantasy   \n",
       "4         James Wan      137                      Action|Crime|Thriller   \n",
       "\n",
       "   vote_count  vote_average  release_year  \n",
       "0        5562           6.5          2015  \n",
       "1        6185           7.1          2015  \n",
       "2        2480           6.3          2015  \n",
       "3        5292           7.5          2015  \n",
       "4        2947           7.3          2015  "
      ]
     },
     "execution_count": 20,
     "metadata": {},
     "output_type": "execute_result"
    }
   ],
   "source": [
    "# View the first five records\n",
    "tmdb_data.head()"
   ]
  },
  {
   "cell_type": "markdown",
   "metadata": {},
   "source": [
    "Genre contains multiple values separated by pipe character. I need to split it as I'll heavily use it in my analysis"
   ]
  },
  {
   "cell_type": "code",
   "execution_count": 21,
   "metadata": {},
   "outputs": [
    {
     "data": {
      "text/html": [
       "<div>\n",
       "<style scoped>\n",
       "    .dataframe tbody tr th:only-of-type {\n",
       "        vertical-align: middle;\n",
       "    }\n",
       "\n",
       "    .dataframe tbody tr th {\n",
       "        vertical-align: top;\n",
       "    }\n",
       "\n",
       "    .dataframe thead th {\n",
       "        text-align: right;\n",
       "    }\n",
       "</style>\n",
       "<table border=\"1\" class=\"dataframe\">\n",
       "  <thead>\n",
       "    <tr style=\"text-align: right;\">\n",
       "      <th></th>\n",
       "      <th>imdb_id</th>\n",
       "      <th>popularity</th>\n",
       "      <th>budget</th>\n",
       "      <th>revenue</th>\n",
       "      <th>original_title</th>\n",
       "      <th>director</th>\n",
       "      <th>runtime</th>\n",
       "      <th>genres</th>\n",
       "      <th>vote_count</th>\n",
       "      <th>vote_average</th>\n",
       "      <th>release_year</th>\n",
       "    </tr>\n",
       "  </thead>\n",
       "  <tbody>\n",
       "    <tr>\n",
       "      <th>0</th>\n",
       "      <td>tt0369610</td>\n",
       "      <td>32.985763</td>\n",
       "      <td>150000000</td>\n",
       "      <td>1513528810</td>\n",
       "      <td>Jurassic World</td>\n",
       "      <td>Colin Trevorrow</td>\n",
       "      <td>124</td>\n",
       "      <td>Action</td>\n",
       "      <td>5562</td>\n",
       "      <td>6.5</td>\n",
       "      <td>2015</td>\n",
       "    </tr>\n",
       "    <tr>\n",
       "      <th>0</th>\n",
       "      <td>tt0369610</td>\n",
       "      <td>32.985763</td>\n",
       "      <td>150000000</td>\n",
       "      <td>1513528810</td>\n",
       "      <td>Jurassic World</td>\n",
       "      <td>Colin Trevorrow</td>\n",
       "      <td>124</td>\n",
       "      <td>Adventure</td>\n",
       "      <td>5562</td>\n",
       "      <td>6.5</td>\n",
       "      <td>2015</td>\n",
       "    </tr>\n",
       "    <tr>\n",
       "      <th>0</th>\n",
       "      <td>tt0369610</td>\n",
       "      <td>32.985763</td>\n",
       "      <td>150000000</td>\n",
       "      <td>1513528810</td>\n",
       "      <td>Jurassic World</td>\n",
       "      <td>Colin Trevorrow</td>\n",
       "      <td>124</td>\n",
       "      <td>Science Fiction</td>\n",
       "      <td>5562</td>\n",
       "      <td>6.5</td>\n",
       "      <td>2015</td>\n",
       "    </tr>\n",
       "    <tr>\n",
       "      <th>0</th>\n",
       "      <td>tt0369610</td>\n",
       "      <td>32.985763</td>\n",
       "      <td>150000000</td>\n",
       "      <td>1513528810</td>\n",
       "      <td>Jurassic World</td>\n",
       "      <td>Colin Trevorrow</td>\n",
       "      <td>124</td>\n",
       "      <td>Thriller</td>\n",
       "      <td>5562</td>\n",
       "      <td>6.5</td>\n",
       "      <td>2015</td>\n",
       "    </tr>\n",
       "    <tr>\n",
       "      <th>1</th>\n",
       "      <td>tt1392190</td>\n",
       "      <td>28.419936</td>\n",
       "      <td>150000000</td>\n",
       "      <td>378436354</td>\n",
       "      <td>Mad Max: Fury Road</td>\n",
       "      <td>George Miller</td>\n",
       "      <td>120</td>\n",
       "      <td>Action</td>\n",
       "      <td>6185</td>\n",
       "      <td>7.1</td>\n",
       "      <td>2015</td>\n",
       "    </tr>\n",
       "  </tbody>\n",
       "</table>\n",
       "</div>"
      ],
      "text/plain": [
       "     imdb_id  popularity     budget     revenue      original_title  \\\n",
       "0  tt0369610   32.985763  150000000  1513528810      Jurassic World   \n",
       "0  tt0369610   32.985763  150000000  1513528810      Jurassic World   \n",
       "0  tt0369610   32.985763  150000000  1513528810      Jurassic World   \n",
       "0  tt0369610   32.985763  150000000  1513528810      Jurassic World   \n",
       "1  tt1392190   28.419936  150000000   378436354  Mad Max: Fury Road   \n",
       "\n",
       "          director  runtime           genres  vote_count  vote_average  \\\n",
       "0  Colin Trevorrow      124           Action        5562           6.5   \n",
       "0  Colin Trevorrow      124        Adventure        5562           6.5   \n",
       "0  Colin Trevorrow      124  Science Fiction        5562           6.5   \n",
       "0  Colin Trevorrow      124         Thriller        5562           6.5   \n",
       "1    George Miller      120           Action        6185           7.1   \n",
       "\n",
       "   release_year  \n",
       "0          2015  \n",
       "0          2015  \n",
       "0          2015  \n",
       "0          2015  \n",
       "1          2015  "
      ]
     },
     "execution_count": 21,
     "metadata": {},
     "output_type": "execute_result"
    }
   ],
   "source": [
    "# Convert the string the genres attribute into a list; splitting based on the pipe character\n",
    "tmdb_data.genres = tmdb_data.genres.apply(lambda x: x.split('|'))\n",
    "\n",
    "# Use pandas 'explode()' function to convert the list into individual records\n",
    "tmdb_data = tmdb_data.explode('genres')\n",
    "\n",
    "# View our dataset\n",
    "tmdb_data.head()"
   ]
  },
  {
   "cell_type": "markdown",
   "metadata": {},
   "source": [
    "Rename genres to genre"
   ]
  },
  {
   "cell_type": "code",
   "execution_count": 22,
   "metadata": {},
   "outputs": [
    {
     "data": {
      "text/html": [
       "<div>\n",
       "<style scoped>\n",
       "    .dataframe tbody tr th:only-of-type {\n",
       "        vertical-align: middle;\n",
       "    }\n",
       "\n",
       "    .dataframe tbody tr th {\n",
       "        vertical-align: top;\n",
       "    }\n",
       "\n",
       "    .dataframe thead th {\n",
       "        text-align: right;\n",
       "    }\n",
       "</style>\n",
       "<table border=\"1\" class=\"dataframe\">\n",
       "  <thead>\n",
       "    <tr style=\"text-align: right;\">\n",
       "      <th></th>\n",
       "      <th>imdb_id</th>\n",
       "      <th>popularity</th>\n",
       "      <th>budget</th>\n",
       "      <th>revenue</th>\n",
       "      <th>original_title</th>\n",
       "      <th>director</th>\n",
       "      <th>runtime</th>\n",
       "      <th>genre</th>\n",
       "      <th>vote_count</th>\n",
       "      <th>vote_average</th>\n",
       "      <th>release_year</th>\n",
       "    </tr>\n",
       "  </thead>\n",
       "  <tbody>\n",
       "    <tr>\n",
       "      <th>0</th>\n",
       "      <td>tt0369610</td>\n",
       "      <td>32.985763</td>\n",
       "      <td>150000000</td>\n",
       "      <td>1513528810</td>\n",
       "      <td>Jurassic World</td>\n",
       "      <td>Colin Trevorrow</td>\n",
       "      <td>124</td>\n",
       "      <td>Action</td>\n",
       "      <td>5562</td>\n",
       "      <td>6.5</td>\n",
       "      <td>2015</td>\n",
       "    </tr>\n",
       "    <tr>\n",
       "      <th>0</th>\n",
       "      <td>tt0369610</td>\n",
       "      <td>32.985763</td>\n",
       "      <td>150000000</td>\n",
       "      <td>1513528810</td>\n",
       "      <td>Jurassic World</td>\n",
       "      <td>Colin Trevorrow</td>\n",
       "      <td>124</td>\n",
       "      <td>Adventure</td>\n",
       "      <td>5562</td>\n",
       "      <td>6.5</td>\n",
       "      <td>2015</td>\n",
       "    </tr>\n",
       "    <tr>\n",
       "      <th>0</th>\n",
       "      <td>tt0369610</td>\n",
       "      <td>32.985763</td>\n",
       "      <td>150000000</td>\n",
       "      <td>1513528810</td>\n",
       "      <td>Jurassic World</td>\n",
       "      <td>Colin Trevorrow</td>\n",
       "      <td>124</td>\n",
       "      <td>Science Fiction</td>\n",
       "      <td>5562</td>\n",
       "      <td>6.5</td>\n",
       "      <td>2015</td>\n",
       "    </tr>\n",
       "    <tr>\n",
       "      <th>0</th>\n",
       "      <td>tt0369610</td>\n",
       "      <td>32.985763</td>\n",
       "      <td>150000000</td>\n",
       "      <td>1513528810</td>\n",
       "      <td>Jurassic World</td>\n",
       "      <td>Colin Trevorrow</td>\n",
       "      <td>124</td>\n",
       "      <td>Thriller</td>\n",
       "      <td>5562</td>\n",
       "      <td>6.5</td>\n",
       "      <td>2015</td>\n",
       "    </tr>\n",
       "    <tr>\n",
       "      <th>1</th>\n",
       "      <td>tt1392190</td>\n",
       "      <td>28.419936</td>\n",
       "      <td>150000000</td>\n",
       "      <td>378436354</td>\n",
       "      <td>Mad Max: Fury Road</td>\n",
       "      <td>George Miller</td>\n",
       "      <td>120</td>\n",
       "      <td>Action</td>\n",
       "      <td>6185</td>\n",
       "      <td>7.1</td>\n",
       "      <td>2015</td>\n",
       "    </tr>\n",
       "  </tbody>\n",
       "</table>\n",
       "</div>"
      ],
      "text/plain": [
       "     imdb_id  popularity     budget     revenue      original_title  \\\n",
       "0  tt0369610   32.985763  150000000  1513528810      Jurassic World   \n",
       "0  tt0369610   32.985763  150000000  1513528810      Jurassic World   \n",
       "0  tt0369610   32.985763  150000000  1513528810      Jurassic World   \n",
       "0  tt0369610   32.985763  150000000  1513528810      Jurassic World   \n",
       "1  tt1392190   28.419936  150000000   378436354  Mad Max: Fury Road   \n",
       "\n",
       "          director  runtime            genre  vote_count  vote_average  \\\n",
       "0  Colin Trevorrow      124           Action        5562           6.5   \n",
       "0  Colin Trevorrow      124        Adventure        5562           6.5   \n",
       "0  Colin Trevorrow      124  Science Fiction        5562           6.5   \n",
       "0  Colin Trevorrow      124         Thriller        5562           6.5   \n",
       "1    George Miller      120           Action        6185           7.1   \n",
       "\n",
       "   release_year  \n",
       "0          2015  \n",
       "0          2015  \n",
       "0          2015  \n",
       "0          2015  \n",
       "1          2015  "
      ]
     },
     "execution_count": 22,
     "metadata": {},
     "output_type": "execute_result"
    }
   ],
   "source": [
    "tmdb_data.rename(columns={'genres':'genre'}, inplace=True)\n",
    "tmdb_data.head()"
   ]
  },
  {
   "cell_type": "markdown",
   "metadata": {},
   "source": [
    "Now I am done wrangling this dataset."
   ]
  },
  {
   "cell_type": "markdown",
   "metadata": {},
   "source": [
    "<a id='eda'></a>\n",
    "## Exploratory Data Analysis"
   ]
  },
  {
   "cell_type": "markdown",
   "metadata": {},
   "source": [
    "#### 1. Which 5 genres are dominating the movie industry?"
   ]
  },
  {
   "cell_type": "code",
   "execution_count": 23,
   "metadata": {},
   "outputs": [
    {
     "data": {
      "text/plain": [
       "Drama              4752\n",
       "Comedy             3782\n",
       "Thriller           2904\n",
       "Action             2373\n",
       "Romance            1708\n",
       "Horror             1636\n",
       "Adventure          1464\n",
       "Crime              1353\n",
       "Family             1222\n",
       "Science Fiction    1219\n",
       "Fantasy             909\n",
       "Mystery             809\n",
       "Animation           690\n",
       "Documentary         509\n",
       "Music               402\n",
       "History             332\n",
       "War                 270\n",
       "Foreign             185\n",
       "Western             164\n",
       "TV Movie            162\n",
       "Name: genre, dtype: int64"
      ]
     },
     "execution_count": 23,
     "metadata": {},
     "output_type": "execute_result"
    }
   ],
   "source": [
    "# Count the number of times each genre is in a movie\n",
    "tmdb_data.genre.value_counts()"
   ]
  },
  {
   "cell_type": "code",
   "execution_count": 24,
   "metadata": {},
   "outputs": [
    {
     "data": {
      "image/png": "[encoded data removed]",
      "text/plain": [
       "<Figure size 640x480 with 1 Axes>"
      ]
     },
     "metadata": {},
     "output_type": "display_data"
    }
   ],
   "source": [
    "# Plot the first five on a bar chart\n",
    "top_5_genres = tmdb_data.genre.value_counts().nlargest(5)\n",
    "\n",
    "top_5_genres.plot(\n",
    "    kind='bar',\n",
    "    color='green',\n",
    "    title='Top 5 Genres in the Dataset');"
   ]
  },
  {
   "cell_type": "code",
   "execution_count": 25,
   "metadata": {},
   "outputs": [
    {
     "name": "stdout",
     "output_type": "stream",
     "text": [
      "The five genres dominating the movie industry are:\n",
      "Drama\n",
      "Comedy\n",
      "Thriller\n",
      "Action\n",
      "Romance\n"
     ]
    }
   ],
   "source": [
    "print('The five genres dominating the movie industry are:')\n",
    "for i in top_5_genres.index.to_list():\n",
    "    print(i)"
   ]
  },
  {
   "cell_type": "markdown",
   "metadata": {},
   "source": [
    "#### 2. Are these genres making most of the profits in the movie industry?"
   ]
  },
  {
   "cell_type": "code",
   "execution_count": 26,
   "metadata": {},
   "outputs": [
    {
     "data": {
      "image/png": "[encoded data removed]",
      "text/plain": [
       "<Figure size 1600x600 with 2 Axes>"
      ]
     },
     "metadata": {},
     "output_type": "display_data"
    }
   ],
   "source": [
    "# First, I need to calculate the profit for each record\n",
    "# Record Profit = Record Revenue - Record Budget\n",
    "tmdb_data['profit'] = tmdb_data['revenue'] - tmdb_data['budget']\n",
    "\n",
    "# Then calculate the average profit per genre\n",
    "# And get the top 10 genres by profit\n",
    "top_10_genres_by_profit = tmdb_data.groupby('genre').profit.mean().nlargest(10)\n",
    "\n",
    "# Now display two bar charts:\n",
    "# 1. Showing the top 5 genres in the movie industry\n",
    "# 2. Showing the top 5 genres in the movie industry by profit\n",
    "fig, (ax1, ax2) = plt.subplots(1, 2, figsize=(16, 6), width_ratios=[1.5, 2.5])\n",
    "\n",
    "fig.suptitle('Top Genres in the Movie Industry')\n",
    "\n",
    "# First chart\n",
    "ax1.bar(top_5_genres.index, top_5_genres.values, color='green')\n",
    "ax1.set_title('Top 5 Genres in the movie industry')\n",
    "ax1.tick_params(labelrotation=90)\n",
    "ax1.set_ylabel('Count')\n",
    "\n",
    "# Second chart\n",
    "ax2.bar(top_10_genres_by_profit.index, top_10_genres_by_profit.values, color='blue')\n",
    "ax2.set_title('Top 10 Genres in the movie industry by Profit')\n",
    "ax2.tick_params(labelrotation=90)\n",
    "ax2.set_ylabel('Profit')\n",
    "\n",
    "plt.show()"
   ]
  },
  {
   "cell_type": "markdown",
   "metadata": {},
   "source": [
    "Only two after out of five showed up in the lower half of the top 10 genres by profit."
   ]
  },
  {
   "cell_type": "markdown",
   "metadata": {},
   "source": [
    "**No. The top 5 genres with more movie counts are not making most of the profit in the industry. Action, Thriller and Comedy are profitable but not the most profitable**"
   ]
  },
  {
   "cell_type": "markdown",
   "metadata": {},
   "source": [
    "#### 3. Are these genres the most popular?"
   ]
  },
  {
   "cell_type": "code",
   "execution_count": 27,
   "metadata": {},
   "outputs": [
    {
     "data": {
      "image/png": "[encoded data removed]",
      "text/plain": [
       "<Figure size 1600x600 with 2 Axes>"
      ]
     },
     "metadata": {},
     "output_type": "display_data"
    }
   ],
   "source": [
    "# Calculate the mean popularity for the genres and select the top 10 genres\n",
    "top_10_genres_by_popularity = tmdb_data.groupby('genre').popularity.mean().nlargest(10)\n",
    "\n",
    "# Now display two bar charts:\n",
    "# 1. Showing the top 5 genres in the movie industry\n",
    "# 2. Showing the top 5 genres in the movie industry by popularity\n",
    "fig, (ax3, ax4) = plt.subplots(1, 2, figsize=(16, 6), width_ratios=[1.5, 2.5])\n",
    "\n",
    "fig.suptitle('Top Genres in the Movie Industry')\n",
    "\n",
    "# First chart\n",
    "ax3.bar(top_5_genres.index, top_5_genres.values, color='green')\n",
    "ax3.set_title('Top 5 Genres in the movie industry')\n",
    "ax3.tick_params(labelrotation=90)\n",
    "ax3.set_ylabel('Count')\n",
    "\n",
    "# Second chart\n",
    "ax4.bar(top_10_genres_by_popularity.index, top_10_genres_by_popularity.values, color='red')\n",
    "ax4.set_title('Top 10 Genres in the movie industry by Popularity')\n",
    "ax4.tick_params(labelrotation=90)\n",
    "ax4.set_ylabel('Popularity')\n",
    "\n",
    "plt.show()"
   ]
  },
  {
   "cell_type": "markdown",
   "metadata": {},
   "source": [
    "Action and Thriller are popular as they show up in the top 10 popular genres. But are not the most popular"
   ]
  },
  {
   "cell_type": "markdown",
   "metadata": {},
   "source": [
    "**No. The five genres leading by movie counts are not the most popular in the movie industry**"
   ]
  },
  {
   "cell_type": "markdown",
   "metadata": {},
   "source": [
    "#### 4. Which attribute(s) go with popularity of a movie?"
   ]
  },
  {
   "cell_type": "code",
   "execution_count": 28,
   "metadata": {},
   "outputs": [
    {
     "name": "stderr",
     "output_type": "stream",
     "text": [
      "C:\\Users\\Maverick\\AppData\\Local\\Temp\\ipykernel_7028\\2656146912.py:2: FutureWarning: The default value of numeric_only in DataFrame.corr is deprecated. In a future version, it will default to False. Select only valid columns or specify the value of numeric_only to silence this warning.\n",
      "  tmdb_data.corr()\n"
     ]
    },
    {
     "data": {
      "text/html": [
       "<div>\n",
       "<style scoped>\n",
       "    .dataframe tbody tr th:only-of-type {\n",
       "        vertical-align: middle;\n",
       "    }\n",
       "\n",
       "    .dataframe tbody tr th {\n",
       "        vertical-align: top;\n",
       "    }\n",
       "\n",
       "    .dataframe thead th {\n",
       "        text-align: right;\n",
       "    }\n",
       "</style>\n",
       "<table border=\"1\" class=\"dataframe\">\n",
       "  <thead>\n",
       "    <tr style=\"text-align: right;\">\n",
       "      <th></th>\n",
       "      <th>popularity</th>\n",
       "      <th>budget</th>\n",
       "      <th>revenue</th>\n",
       "      <th>runtime</th>\n",
       "      <th>vote_count</th>\n",
       "      <th>vote_average</th>\n",
       "      <th>release_year</th>\n",
       "      <th>profit</th>\n",
       "    </tr>\n",
       "  </thead>\n",
       "  <tbody>\n",
       "    <tr>\n",
       "      <th>popularity</th>\n",
       "      <td>1.000000</td>\n",
       "      <td>0.541345</td>\n",
       "      <td>0.665618</td>\n",
       "      <td>0.144828</td>\n",
       "      <td>0.794793</td>\n",
       "      <td>0.235715</td>\n",
       "      <td>0.111335</td>\n",
       "      <td>0.632230</td>\n",
       "    </tr>\n",
       "    <tr>\n",
       "      <th>budget</th>\n",
       "      <td>0.541345</td>\n",
       "      <td>1.000000</td>\n",
       "      <td>0.729263</td>\n",
       "      <td>0.204388</td>\n",
       "      <td>0.641505</td>\n",
       "      <td>0.102997</td>\n",
       "      <td>0.149237</td>\n",
       "      <td>0.564187</td>\n",
       "    </tr>\n",
       "    <tr>\n",
       "      <th>revenue</th>\n",
       "      <td>0.665618</td>\n",
       "      <td>0.729263</td>\n",
       "      <td>1.000000</td>\n",
       "      <td>0.174608</td>\n",
       "      <td>0.798543</td>\n",
       "      <td>0.197071</td>\n",
       "      <td>0.082103</td>\n",
       "      <td>0.976376</td>\n",
       "    </tr>\n",
       "    <tr>\n",
       "      <th>runtime</th>\n",
       "      <td>0.144828</td>\n",
       "      <td>0.204388</td>\n",
       "      <td>0.174608</td>\n",
       "      <td>1.000000</td>\n",
       "      <td>0.177406</td>\n",
       "      <td>0.167369</td>\n",
       "      <td>-0.134019</td>\n",
       "      <td>0.146150</td>\n",
       "    </tr>\n",
       "    <tr>\n",
       "      <th>vote_count</th>\n",
       "      <td>0.794793</td>\n",
       "      <td>0.641505</td>\n",
       "      <td>0.798543</td>\n",
       "      <td>0.177406</td>\n",
       "      <td>1.000000</td>\n",
       "      <td>0.281358</td>\n",
       "      <td>0.132393</td>\n",
       "      <td>0.760997</td>\n",
       "    </tr>\n",
       "    <tr>\n",
       "      <th>vote_average</th>\n",
       "      <td>0.235715</td>\n",
       "      <td>0.102997</td>\n",
       "      <td>0.197071</td>\n",
       "      <td>0.167369</td>\n",
       "      <td>0.281358</td>\n",
       "      <td>1.000000</td>\n",
       "      <td>-0.127868</td>\n",
       "      <td>0.205275</td>\n",
       "    </tr>\n",
       "    <tr>\n",
       "      <th>release_year</th>\n",
       "      <td>0.111335</td>\n",
       "      <td>0.149237</td>\n",
       "      <td>0.082103</td>\n",
       "      <td>-0.134019</td>\n",
       "      <td>0.132393</td>\n",
       "      <td>-0.127868</td>\n",
       "      <td>1.000000</td>\n",
       "      <td>0.051943</td>\n",
       "    </tr>\n",
       "    <tr>\n",
       "      <th>profit</th>\n",
       "      <td>0.632230</td>\n",
       "      <td>0.564187</td>\n",
       "      <td>0.976376</td>\n",
       "      <td>0.146150</td>\n",
       "      <td>0.760997</td>\n",
       "      <td>0.205275</td>\n",
       "      <td>0.051943</td>\n",
       "      <td>1.000000</td>\n",
       "    </tr>\n",
       "  </tbody>\n",
       "</table>\n",
       "</div>"
      ],
      "text/plain": [
       "              popularity    budget   revenue   runtime  vote_count  \\\n",
       "popularity      1.000000  0.541345  0.665618  0.144828    0.794793   \n",
       "budget          0.541345  1.000000  0.729263  0.204388    0.641505   \n",
       "revenue         0.665618  0.729263  1.000000  0.174608    0.798543   \n",
       "runtime         0.144828  0.204388  0.174608  1.000000    0.177406   \n",
       "vote_count      0.794793  0.641505  0.798543  0.177406    1.000000   \n",
       "vote_average    0.235715  0.102997  0.197071  0.167369    0.281358   \n",
       "release_year    0.111335  0.149237  0.082103 -0.134019    0.132393   \n",
       "profit          0.632230  0.564187  0.976376  0.146150    0.760997   \n",
       "\n",
       "              vote_average  release_year    profit  \n",
       "popularity        0.235715      0.111335  0.632230  \n",
       "budget            0.102997      0.149237  0.564187  \n",
       "revenue           0.197071      0.082103  0.976376  \n",
       "runtime           0.167369     -0.134019  0.146150  \n",
       "vote_count        0.281358      0.132393  0.760997  \n",
       "vote_average      1.000000     -0.127868  0.205275  \n",
       "release_year     -0.127868      1.000000  0.051943  \n",
       "profit            0.205275      0.051943  1.000000  "
      ]
     },
     "execution_count": 28,
     "metadata": {},
     "output_type": "execute_result"
    }
   ],
   "source": [
    "# Let's see the correlation matrix between the attributes\n",
    "tmdb_data.corr()"
   ]
  },
  {
   "cell_type": "code",
   "execution_count": 29,
   "metadata": {},
   "outputs": [
    {
     "name": "stderr",
     "output_type": "stream",
     "text": [
      "C:\\Users\\Maverick\\AppData\\Local\\Temp\\ipykernel_7028\\3367837336.py:2: FutureWarning: The default value of numeric_only in DataFrame.corr is deprecated. In a future version, it will default to False. Select only valid columns or specify the value of numeric_only to silence this warning.\n",
      "  sns.heatmap(tmdb_data.corr(), cmap='YlGnBu', linewidths=0.30, annot=True);\n"
     ]
    },
    {
     "data": {
      "image/png": "[encoded data removed]",
      "text/plain": [
       "<Figure size 640x480 with 2 Axes>"
      ]
     },
     "metadata": {},
     "output_type": "display_data"
    }
   ],
   "source": [
    "# Visualize the matrix with a heatmap for better interpretation\n",
    "sns.heatmap(tmdb_data.corr(), cmap='YlGnBu', linewidths=0.30, annot=True);"
   ]
  },
  {
   "cell_type": "markdown",
   "metadata": {},
   "source": [
    "Popularity attribute correlates positively with the number of votes for that particular movie. The more the number of votes for a movie the popular it gets."
   ]
  },
  {
   "cell_type": "markdown",
   "metadata": {},
   "source": [
    "Popularity attribute also correlates positively with the budget, revenue and profit. Meaning investing more on a movie will make it popular as streamers will enjoy the quality of the movie"
   ]
  },
  {
   "cell_type": "markdown",
   "metadata": {},
   "source": [
    "Attributes like average vote, release year and runtime doesn't really have any effect on the popularity of a movie"
   ]
  },
  {
   "cell_type": "markdown",
   "metadata": {},
   "source": [
    "#### 5. Which 5 directors would you recommend to your friend? And why?"
   ]
  },
  {
   "cell_type": "markdown",
   "metadata": {},
   "source": [
    "Let's see the relationship between profit and popularity"
   ]
  },
  {
   "cell_type": "code",
   "execution_count": 30,
   "metadata": {},
   "outputs": [
    {
     "data": {
      "image/png": "[encoded data removed]",
      "text/plain": [
       "<Figure size 640x480 with 1 Axes>"
      ]
     },
     "metadata": {},
     "output_type": "display_data"
    }
   ],
   "source": [
    "# Plot a scatter plot showing the relationship between the popularity and profit a movie\n",
    "plt.scatter(tmdb_data.popularity, tmdb_data.profit, color='green')\n",
    "plt.title('Popularity against Profit')\n",
    "plt.xlabel('Popularity')\n",
    "plt.ylabel('Profit');"
   ]
  },
  {
   "cell_type": "markdown",
   "metadata": {},
   "source": [
    "I can see from my previous analysis that popularity and profit goes hand in hand. My friend will want a director that'll grant him both popularity and profit. So I'll be diving into those two categories specifically."
   ]
  },
  {
   "cell_type": "code",
   "execution_count": 31,
   "metadata": {},
   "outputs": [
    {
     "data": {
      "image/png": "[encoded data removed]",
      "text/plain": [
       "<Figure size 2000x500 with 2 Axes>"
      ]
     },
     "metadata": {},
     "output_type": "display_data"
    }
   ],
   "source": [
    "# Get the top ranking movies data by popularity\n",
    "top_movies_data_by_popularity = tmdb_data[tmdb_data.popularity > tmdb_data.popularity.mean()]\n",
    "\n",
    "# Get the top ranking movies data by profit\n",
    "top_movies_data_by_profit = tmdb_data[tmdb_data.profit > tmdb_data.profit.mean()]\n",
    "\n",
    "# Display two plots of directors with more movie counts int the two categories\n",
    "fig, (ax5, ax6) = plt.subplots(1, 2, figsize=(20, 5))\n",
    "\n",
    "fig.suptitle('Top Ranking Movies')\n",
    "\n",
    "profit_data = top_movies_data_by_profit.groupby('director').director.count().nlargest(10)\n",
    "ax5.set_title('Directors with higher movie count when considering Profit')\n",
    "ax5.bar(profit_data.index, profit_data.values)\n",
    "ax5.tick_params(rotation=90)\n",
    "ax5.set_ylabel('Movie Count')\n",
    "\n",
    "popularity_data = top_movies_data_by_popularity.groupby('director').director.count().nlargest(10)\n",
    "ax6.set_title('Directors with higher movie count when considering Popularity')\n",
    "ax6.bar(popularity_data.index, popularity_data.values)\n",
    "ax6.tick_params(rotation=90)\n",
    "ax6.set_ylabel('Movie Count')\n",
    "\n",
    "plt.show()"
   ]
  },
  {
   "cell_type": "markdown",
   "metadata": {},
   "source": [
    "- The first 4 directors with higher movie count when considering profit are the ones with more more popularity.\n",
    "- Clint Eastwood being the fifth when considering profit is also part of the top 10 when considering popularity.\n",
    "\n",
    "Prioritizing Profit over popularity, I'll recommend the first five directors with more movie counts when considering profit to my friend."
   ]
  },
  {
   "cell_type": "markdown",
   "metadata": {},
   "source": [
    "**I'll recommend *Steven Spielberg, Robert Zenneckis, Tim Burton, Ridley Scott and Clint Eastwood* to my friend because the movies directed by these directors have more profit than any other and their movies are very popular.**"
   ]
  },
  {
   "cell_type": "markdown",
   "metadata": {},
   "source": [
    "<a id='conclusions'></a>\n",
    "## Conclusions"
   ]
  },
  {
   "cell_type": "markdown",
   "metadata": {},
   "source": [
    "- The top 5 genres in the movie industry are *Drama, Comedy, Thriller, Action, Romance*.\n",
    "- These genres are neither the most popular nor the most profitable genre in the movie industry.\n",
    "- Adventure is the most popular and the most profitable genre in the movie industry.\n",
    "- Profit of a particular movie increases as it gets popular.\n",
    "- The runtime, release year and average vote have nothing to do with how popular a movie gets.\n",
    "- But the number of votes a movie gets deeply affect it's popularity\n",
    "- The 5 best directors that I recommend in the industry are **Steven Spielberg, Robert Zenneckis, Tim Burton, Ridley Scott and Clint Eastwood**"
   ]
  },
  {
   "cell_type": "markdown",
   "metadata": {},
   "source": [
    "### Limitation"
   ]
  },
  {
   "cell_type": "markdown",
   "metadata": {},
   "source": [
    "The main limitation to this dataset is that it didn't cover all the movies in the world and all timeframe as it only contain movies from 1960 to 2015."
   ]
  }
 ],
 "metadata": {
  "kernelspec": {
   "display_name": "Python 3 (ipykernel)",
   "language": "python",
   "name": "python3"
  },
  "language_info": {
   "codemirror_mode": {
    "name": "ipython",
    "version": 3
   },
   "file_extension": ".py",
   "mimetype": "text/x-python",
   "name": "python",
   "nbconvert_exporter": "python",
   "pygments_lexer": "ipython3",
   "version": "3.10.8"
  },
  "vscode": {
   "interpreter": {
    "hash": "019a44f800ef8fdd1dd3163c0de48f12b34ef8ca0d967ecdcd541db7f5a5ffbc"
   }
  }
 },
 "nbformat": 4,
 "nbformat_minor": 2
}
